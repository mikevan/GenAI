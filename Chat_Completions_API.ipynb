{
 "cells": [
  {
   "cell_type": "code",
   "execution_count": 13,
   "id": "bc2f9e24-9afc-4d52-82c0-2a08b7e5bf8b",
   "metadata": {},
   "outputs": [],
   "source": [
    "import os\n",
    "import requests\n",
    "import json"
   ]
  },
  {
   "cell_type": "code",
   "execution_count": 14,
   "id": "29cfd5ab-2ff3-4834-9c57-ba49e0613884",
   "metadata": {},
   "outputs": [],
   "source": [
    "# A recommended way to start the key is in an environment variable. For this demo, I'm storing it in a file.\n",
    "key_location = r'C:\\Users\\vange\\Workspace_JLAB\\GenAI\\GenAIkey.txt'\n",
    "\n",
    "with open(key_location, 'r') as file:\n",
    "    key = file.readline().strip()"
   ]
  },
  {
   "cell_type": "code",
   "execution_count": 17,
   "id": "5a7054ae-fd3b-499a-a4fd-c99cff1f89d8",
   "metadata": {},
   "outputs": [],
   "source": [
    "def make_openai_request(url, data=None):\n",
    "    \"\"\"Takes a prompt as an argument and sends a POST request to the OpenAI API\"\"\"\n",
    "\n",
    "    headers = {\n",
    "        'Authorization': f'Bearer {key}'\n",
    "    }\n",
    "    if data:\n",
    "        headers['Content-Type'] = 'application/json'\n",
    "    response = requests.post(url, headers=headers, json=data, timeout=20)\n",
    "\n",
    "    if response.status_code == 200:\n",
    "        result = response.json()\n",
    "        return result\n",
    "    print('Request failed with status code:', response.status_code)\n",
    "    return None"
   ]
  },
  {
   "cell_type": "code",
   "execution_count": 22,
   "id": "e7ce0961-1e78-4c13-abb1-07f5dcf993b6",
   "metadata": {},
   "outputs": [
    {
     "name": "stdout",
     "output_type": "stream",
     "text": [
      "{\n",
      "  \"id\": \"chatcmpl-Aua4wcGNA9lYZCjG3VqugjjAOlc6t\",\n",
      "  \"object\": \"chat.completion\",\n",
      "  \"created\": 1738048418,\n",
      "  \"model\": \"gpt-3.5-turbo-0125\",\n",
      "  \"choices\": [\n",
      "    {\n",
      "      \"index\": 0,\n",
      "      \"message\": {\n",
      "        \"role\": \"assistant\",\n",
      "        \"content\": \"The problem is that I purchased a product from your company and it arrived damaged. This is completely unacceptable and I demand a refund or a replacement immediately. This kind of incompetence is not something I am willing to tolerate.\",\n",
      "        \"refusal\": null\n",
      "      },\n",
      "      \"logprobs\": null,\n",
      "      \"finish_reason\": \"stop\"\n",
      "    }\n",
      "  ],\n",
      "  \"usage\": {\n",
      "    \"prompt_tokens\": 57,\n",
      "    \"completion_tokens\": 44,\n",
      "    \"total_tokens\": 101,\n",
      "    \"prompt_tokens_details\": {\n",
      "      \"cached_tokens\": 0,\n",
      "      \"audio_tokens\": 0\n",
      "    },\n",
      "    \"completion_tokens_details\": {\n",
      "      \"reasoning_tokens\": 0,\n",
      "      \"audio_tokens\": 0,\n",
      "      \"accepted_prediction_tokens\": 0,\n",
      "      \"rejected_prediction_tokens\": 0\n",
      "    }\n",
      "  },\n",
      "  \"service_tier\": \"default\",\n",
      "  \"system_fingerprint\": null\n",
      "}\n"
     ]
    }
   ],
   "source": [
    "URL = \"https://api.openai.com/v1/chat/completions\"\n",
    "data = {\n",
    "    \"model\": \"gpt-3.5-turbo\",\n",
    "    \"messages\": [\n",
    "        {\n",
    "            \"role\": \"system\",\n",
    "            \"content\": \"You are an angry customer.\"\n",
    "        },\n",
    "        {\n",
    "            \"role\": \"user\",\n",
    "            \"content\": \"Hello!\"\n",
    "        },\n",
    "        {\n",
    "            \"role\": \"assistant\",\n",
    "            \"content\": \"I am not in the mood for pleasantries. I have a serious issue that needs to be addressed immediately.\"\n",
    "        },\n",
    "        {\n",
    "            \"role\": \"user\",\n",
    "            \"content\": \"What seems to be the problem?\"\n",
    "        }\n",
    "    ],\n",
    "    \"temperature\": 0.7\n",
    "}\n",
    "request_result = make_openai_request(URL, data)\n",
    "\n",
    "if request_result:\n",
    "    print(json.dumps(request_result, indent=2))"
   ]
  },
  {
   "cell_type": "code",
   "execution_count": null,
   "id": "c2a2a9c8-6893-41d1-9eb7-a54452a3b004",
   "metadata": {},
   "outputs": [],
   "source": []
  }
 ],
 "metadata": {
  "kernelspec": {
   "display_name": "Python 3 (ipykernel)",
   "language": "python",
   "name": "python3"
  },
  "language_info": {
   "codemirror_mode": {
    "name": "ipython",
    "version": 3
   },
   "file_extension": ".py",
   "mimetype": "text/x-python",
   "name": "python",
   "nbconvert_exporter": "python",
   "pygments_lexer": "ipython3",
   "version": "3.12.8"
  }
 },
 "nbformat": 4,
 "nbformat_minor": 5
}
