{
 "cells": [
  {
   "cell_type": "code",
   "execution_count": 5,
   "id": "ca1a742a-f767-4bb6-be0a-1946c8ebaa49",
   "metadata": {},
   "outputs": [],
   "source": [
    "import json\n",
    "import os\n",
    "import requests"
   ]
  },
  {
   "cell_type": "code",
   "execution_count": 6,
   "id": "a889b8e5-57e4-461d-929c-0ff764a689c7",
   "metadata": {},
   "outputs": [],
   "source": [
    "# A recommended way to start the key is in an environment variable. For this demo, I'm storing it in a file.\n",
    "key_location = r'C:\\Users\\vange\\Workspace_JLAB\\GenAI\\GenAIkey.txt'\n",
    "\n",
    "with open(key_location, 'r') as file:\n",
    "    key = file.readline().strip()"
   ]
  },
  {
   "cell_type": "code",
   "execution_count": 7,
   "id": "b4d3a6c3-769f-4812-a136-d68b0b36bcf9",
   "metadata": {},
   "outputs": [],
   "source": [
    "def make_openai_request(url, data=None):\n",
    "    \"\"\"Takes a prompt as an argument and sends a POST request to the OpenAI API\"\"\"\n",
    "    url = 'https://api.openai.com/v1/chat/completions'\n",
    "    headers = {\n",
    "        'Content-Type': 'application/json',\n",
    "        'Authorization': f'Bearer {key}'\n",
    "    }\n",
    "    if data:\n",
    "        headers['Content-Type'] = 'application/json'\n",
    "    response = requests.get(url, headers=headers, json=data, timeout=20)\n",
    "\n",
    "    if response.status_code == 200:\n",
    "        result = response.json()\n",
    "        return result\n",
    "    print('Request failed with status code:', response.status_code)\n",
    "    return None"
   ]
  },
  {
   "cell_type": "code",
   "execution_count": 14,
   "id": "6a2b2000-a9b1-41e4-8c1b-67c19c3ff5d8",
   "metadata": {},
   "outputs": [
    {
     "name": "stdout",
     "output_type": "stream",
     "text": [
      "Request failed with status code: 405\n"
     ]
    }
   ],
   "source": [
    "# List models\n",
    "LIST_URL = \"https://api.openai.com/v1/models/gpt-3.5-turbo-instruct-0914\"\n",
    "list_result = make_openai_request(LIST_URL)\n",
    "\n",
    "if list_result:\n",
    "    print(json.dumps(list_result, indent=2))"
   ]
  },
  {
   "cell_type": "code",
   "execution_count": 15,
   "id": "8c53a2d3-c8e8-4993-981d-342ac90290bd",
   "metadata": {},
   "outputs": [
    {
     "name": "stdout",
     "output_type": "stream",
     "text": [
      "Request failed with status code: 405\n"
     ]
    }
   ],
   "source": [
    "#Retrieve models\n",
    "RETRIEVE_URL = \"https://api.openai.com/v1/models/gpt-3.5-turbo-instruct-0914\"\n",
    "retri_result = make_openai_request(RETRIEVE_URL)\n",
    "\n",
    "if retri_result:\n",
    "    print(json.dumps(retri_result, ident=2))"
   ]
  },
  {
   "cell_type": "code",
   "execution_count": null,
   "id": "98386bcb-27f6-498e-a5ff-be4526174a3e",
   "metadata": {},
   "outputs": [],
   "source": []
  }
 ],
 "metadata": {
  "kernelspec": {
   "display_name": "Python 3 (ipykernel)",
   "language": "python",
   "name": "python3"
  },
  "language_info": {
   "codemirror_mode": {
    "name": "ipython",
    "version": 3
   },
   "file_extension": ".py",
   "mimetype": "text/x-python",
   "name": "python",
   "nbconvert_exporter": "python",
   "pygments_lexer": "ipython3",
   "version": "3.12.8"
  }
 },
 "nbformat": 4,
 "nbformat_minor": 5
}
